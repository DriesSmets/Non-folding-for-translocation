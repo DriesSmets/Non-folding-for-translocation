{
 "cells": [
  {
   "cell_type": "markdown",
   "metadata": {},
   "source": [
    "# Fitting of a single Gaussian on a peptide during refolding\n",
    "\n",
    "One peptide (residue 24-42, one charged state) is extracted from DynamX (identified using PLGS) and at each refolding timepoint a single gaussian curve is fitted over the isotope distribution to define the unfolded and folded distribution (mainly used for the FD and Native controls)"
   ]
  },
  {
   "cell_type": "code",
   "execution_count": 2,
   "metadata": {},
   "outputs": [],
   "source": [
    "import pandas as pd\n",
    "import matplotlib.pyplot as plt\n",
    "from scipy.signal import find_peaks\n",
    "import numpy as np\n",
    "from symfit import Variable, Parameter, parameters, Fit, exp, pi, sqrt\n",
    "from symfit.distributions import Gaussian\n",
    "from symfit.core.models import CallableModel\n",
    "\n",
    "from functools import reduce\n",
    "from operator import add"
   ]
  },
  {
   "cell_type": "code",
   "execution_count": 3,
   "metadata": {
    "pycharm": {
     "name": "#%%\n"
    }
   },
   "outputs": [],
   "source": [
    "df = pd.read_excel(\"peptide 24_42_4Cfolding_ppiA.xlsx\", skiprows=[0, 1], header=[0])\n",
    "df = df.dropna(how='any')\n",
    "\n",
    "#Making a library with indexes\n",
    "series_dict = {}\n",
    "for i, col in enumerate(df):\n",
    "    if i % 2 == 0:\n",
    "        idx = df.iloc[:, i]\n",
    "        data = df.iloc[:, i + 1]\n",
    "        data.index = idx\n",
    "        data /= np.trapz(data, data.index)\n",
    "\n",
    "        series_dict[data.name] = data"
   ]
  },
  {
   "cell_type": "code",
   "execution_count": 5,
   "metadata": {
    "pycharm": {
     "name": "#%%\n"
    },
    "scrolled": false
   },
   "outputs": [
    {
     "data": {
      "text/plain": [
       "Text(0.5, 0, 'm/z')"
      ]
     },
     "execution_count": 5,
     "metadata": {},
     "output_type": "execute_result"
    },
    {
     "data": {
      "image/png": "[encoded data removed]",
      "text/plain": [
       "<Figure size 432x288 with 1 Axes>"
      ]
     },
     "metadata": {
      "needs_background": "light"
     },
     "output_type": "display_data"
    }
   ],
   "source": [
    "#Selection of the fully deuterated control to fit gaussian\n",
    "s = series_dict['fd_1']\n",
    "fig, ax = plt.subplots()\n",
    "ax.plot(s.index, s)\n",
    "ax.set_xlabel('m/z')\n"
   ]
  },
  {
   "cell_type": "code",
   "execution_count": 8,
   "metadata": {
    "pycharm": {
     "name": "#%%\n"
    }
   },
   "outputs": [
    {
     "data": {
      "text/plain": [
       "Text(0.5, 0, 'm/z')"
      ]
     },
     "execution_count": 8,
     "metadata": {},
     "output_type": "execute_result"
    },
    {
     "data": {
      "image/png": "[encoded data removed]",
      "text/plain": [
       "<Figure size 432x288 with 1 Axes>"
      ]
     },
     "metadata": {
      "needs_background": "light"
     },
     "output_type": "display_data"
    }
   ],
   "source": [
    "# Selection of peaks with the tops indicated\n",
    "idx = find_peaks(s, prominence=0.2)[0]\n",
    "\n",
    "xp = s.index.to_numpy()[idx]\n",
    "yp = s.to_numpy()[idx]\n",
    "\n",
    "fig, ax = plt.subplots()\n",
    "ax.plot(s.index, s)\n",
    "ax.scatter(xp, yp, color='r')\n",
    "ax.set_xlabel('m/z')"
   ]
  },
  {
   "cell_type": "code",
   "execution_count": 9,
   "metadata": {
    "pycharm": {
     "name": "#%%\n"
    },
    "scrolled": true
   },
   "outputs": [
    {
     "data": {
      "text/plain": [
       "640.367"
      ]
     },
     "execution_count": 9,
     "metadata": {},
     "output_type": "execute_result"
    }
   ],
   "source": [
    "#The peak with highest intensity is selected as the average\n",
    "x_max = xp[np.argmax(yp)]\n",
    "x_max"
   ]
  },
  {
   "cell_type": "code",
   "execution_count": 10,
   "metadata": {
    "pycharm": {
     "name": "#%%\n"
    }
   },
   "outputs": [],
   "source": [
    "#The width of the gaussian \n",
    "diffs = np.diff(xp).mean()\n",
    "x_sig = 2*diffs\n",
    "\n",
    "a = np.max(yp)"
   ]
  },
  {
   "cell_type": "code",
   "execution_count": 11,
   "metadata": {
    "pycharm": {
     "name": "#%%\n"
    }
   },
   "outputs": [
    {
     "name": "stdout",
     "output_type": "stream",
     "text": [
      "Scalar Parameters:\n",
      "Parameter | Value       | Standard Deviation\n",
      "a           5.194806e+00  None\n",
      "mu          6.403863e+02  None\n",
      "sigma       6.571092e-01  None\n",
      "Status message         b'CONVERGENCE: REL_REDUCTION_OF_F_<=_FACTR*EPSMCH'\n",
      "Number of iterations   10\n",
      "Objective              <symfit.core.objectives.LeastSquares object at 0x0000026929C330F0>\n",
      "Minimizer              <symfit.core.minimizers.LBFGSB object at 0x0000026929C33E48>\n",
      "\n",
      "Goodness of fit qualifiers:\n",
      "chi_squared            0.07225181502323198\n",
      "objective_value        0.03612590751161599\n",
      "r_squared              0.9979213253307355\n"
     ]
    }
   ],
   "source": [
    "# Description and fitting of gaussian curve to data\n",
    "x_var = Variable('x')\n",
    "y_var = Variable('y')\n",
    "a_par, mu_par, sig_par = parameters('a mu sigma')\n",
    "a_par.value = a\n",
    "a_par.min = 0\n",
    "mu_par.value = x_max\n",
    "sig_par.value = x_sig\n",
    "\n",
    "model = CallableModel({y_var: a_par*(exp(-(x_var - mu_par)**2/(2*sig_par**2)))})\n",
    "\n",
    "fit = Fit(model, x=xp, y=yp)\n",
    "fit_result = fit.execute()\n",
    "print(fit_result)"
   ]
  },
  {
   "cell_type": "code",
   "execution_count": 12,
   "metadata": {
    "pycharm": {
     "name": "#%%\n"
    }
   },
   "outputs": [],
   "source": [
    "# Plotting the fit on a figure with good resolution (with x 100 steps)\n",
    "x_vec = np.linspace(s.index.min(), s.index.max(), num=100, endpoint=True)\n",
    "y_vec = model(x=x_vec, **fit_result.params)"
   ]
  },
  {
   "cell_type": "code",
   "execution_count": 13,
   "metadata": {
    "pycharm": {
     "name": "#%%\n"
    },
    "scrolled": false
   },
   "outputs": [
    {
     "data": {
      "image/png": "[encoded data removed]",
      "text/plain": [
       "<Figure size 432x288 with 1 Axes>"
      ]
     },
     "metadata": {
      "needs_background": "light"
     },
     "output_type": "display_data"
    }
   ],
   "source": [
    "fig, ax = plt.subplots()\n",
    "ax.plot(s.index, s, color ='k', linewidth=0.7)\n",
    "#ax.scatter(xp, yp, color='r')\n",
    "ax.plot(x_vec, y_vec[0],color='r')\n",
    "ax.set_ylim(0,6)\n",
    "ax.set_xlim(635,644)\n",
    "ax.set_xlabel('m/z')\n",
    "plt.savefig('4C_FD.png')\n"
   ]
  },
  {
   "cell_type": "code",
   "execution_count": null,
   "metadata": {},
   "outputs": [],
   "source": []
  }
 ],
 "metadata": {
  "kernelspec": {
   "display_name": "Python [conda env:py36_Global] *",
   "language": "python",
   "name": "conda-env-py36_Global-py"
  },
  "language_info": {
   "codemirror_mode": {
    "name": "ipython",
    "version": 3
   },
   "file_extension": ".py",
   "mimetype": "text/x-python",
   "name": "python",
   "nbconvert_exporter": "python",
   "pygments_lexer": "ipython3",
   "version": "3.6.10"
  }
 },
 "nbformat": 4,
 "nbformat_minor": 1
}
