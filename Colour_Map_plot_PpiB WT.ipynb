{
 "cells": [
  {
   "cell_type": "code",
   "execution_count": 2,
   "metadata": {},
   "outputs": [],
   "source": [
    "%matplotlib qt\n",
    "import matplotlib.pyplot as plt #2D plotting library\n",
    "import matplotlib as mpl\n",
    "import numpy as np #scientific computing with Python (functions)\n",
    "import peakutils\n",
    "from matplotlib import gridspec\n"
   ]
  },
  {
   "cell_type": "code",
   "execution_count": 3,
   "metadata": {
    "pycharm": {
     "name": "#%%\n"
    }
   },
   "outputs": [
    {
     "data": {
      "text/plain": [
       "(39, 1691)"
      ]
     },
     "execution_count": 3,
     "metadata": {},
     "output_type": "execute_result"
    }
   ],
   "source": [
    "data_table = np.genfromtxt('Bwt(AT1)_data.txt').T\n",
    "data_table.shape"
   ]
  },
  {
   "cell_type": "code",
   "execution_count": 4,
   "metadata": {
    "pycharm": {
     "name": "#%%\n"
    }
   },
   "outputs": [],
   "source": [
    "#Define the folding time points as name and as value\n",
    "#labels = np.array(['1h', '30m', '20m', '15m', '10m', '5m', '1m', '40s', '20s', 't0'])\n",
    "#time = np.array([60*60, 30*60, 20*60, 15*60, 10*60, 5*60, 1*60, 40, 20, 0])[::-1]\n",
    "\n",
    "labels = np.array(['60m', '30m', '20m', '15m', '10m', '5m', '1m', '40s', '20s', 't0'])\n",
    "time = np.array([60, 30, 20, 15, 10, 5, 1, 0.66, 0.33, 0])[::-1]"
   ]
  },
  {
   "cell_type": "code",
   "execution_count": 5,
   "metadata": {
    "pycharm": {
     "name": "#%%\n"
    }
   },
   "outputs": [
    {
     "data": {
      "text/plain": [
       "(10, 2, 1691)"
      ]
     },
     "execution_count": 5,
     "metadata": {},
     "output_type": "execute_result"
    }
   ],
   "source": [
    "#Remove background with linear equation\n",
    "data_raw = [np.stack([data_table[0], data_table[2]/100])] + [np.stack([data_table[(4*i)-1], data_table[(4*i)+1]/100]) for i in np.arange(9) + 1]\n",
    "\n",
    "data_out = []\n",
    "for d in data_raw:\n",
    "    x, y = d\n",
    "    bl = peakutils.baseline(y, 1)\n",
    "\n",
    "    y_corr = y-bl\n",
    "    y_corr /= np.trapz(y_corr, x)\n",
    "\n",
    "    data_out.append([x, y_corr])\n",
    "\n",
    "f_data = np.array(data_out)[::-1]\n",
    "f_data.shape"
   ]
  },
  {
   "cell_type": "code",
   "execution_count": 6,
   "metadata": {
    "pycharm": {
     "name": "#%%\n"
    }
   },
   "outputs": [
    {
     "data": {
      "text/plain": [
       "<matplotlib.legend.Legend at 0x22c88f054a8>"
      ]
     },
     "execution_count": 6,
     "metadata": {},
     "output_type": "execute_result"
    }
   ],
   "source": [
    "#Create timelegend to fill out with complementation\n",
    "fig, ax = plt.subplots()\n",
    "for t, (x, y) in zip(time, f_data):\n",
    "    ax.plot(x, y, label=t)\n",
    "ax.legend()"
   ]
  },
  {
   "cell_type": "code",
   "execution_count": 7,
   "metadata": {
    "pycharm": {
     "name": "#%%\n"
    }
   },
   "outputs": [
    {
     "data": {
      "text/plain": [
       "array([ 0.  ,  0.33,  0.66,  1.  ,  5.  , 10.  , 15.  , 20.  , 30.  ,\n",
       "       60.  ])"
      ]
     },
     "execution_count": 7,
     "metadata": {},
     "output_type": "execute_result"
    }
   ],
   "source": [
    "time"
   ]
  },
  {
   "cell_type": "code",
   "execution_count": 8,
   "metadata": {
    "pycharm": {
     "name": "#%%\n"
    }
   },
   "outputs": [
    {
     "data": {
      "text/plain": [
       "1691"
      ]
     },
     "execution_count": 8,
     "metadata": {},
     "output_type": "execute_result"
    }
   ],
   "source": [
    "# Check if all the x_arrays are identical\n",
    "xdata = [x for x, y in f_data]\n",
    "assert all([np.allclose(x1, x2) for x1, x2 in zip(xdata[1:], xdata[:-1])])\n",
    "x_size = xdata[0].size\n",
    "x_size"
   ]
  },
  {
   "cell_type": "code",
   "execution_count": 9,
   "metadata": {
    "pycharm": {
     "name": "#%%\n"
    }
   },
   "outputs": [],
   "source": [
    "#Fill out between the timepoints by linear complementation\n",
    "num_timepoints = 4000\n",
    "t_axis_lin = np.linspace(0, time.max(), num=num_timepoints)\n",
    "\n",
    "y_data = f_data[:, 1, :]\n",
    "output = np.empty((num_timepoints, x_size))\n",
    "\n",
    "for col_idx, y in enumerate(y_data.T):\n",
    "    output[:, col_idx] = np.interp(t_axis_lin, time, y)"
   ]
  },
  {
   "cell_type": "code",
   "execution_count": 13,
   "metadata": {
    "pycharm": {
     "name": "#%%\n"
    }
   },
   "outputs": [],
   "source": [
    "sclf=0.9\n",
    "fig, (ax,ax2) = plt.subplots(1,2,sharey=True,figsize=(sclf*5, sclf*4))\n",
    "ax = plt.subplot2grid((1, 40), (0, 0), colspan=1)\n",
    "ax2 = plt.subplot2grid((1, 60), (0, 2), colspan=99)\n",
    "\n",
    "\n",
    "#cmap.set_bad(color='#434343')\n",
    "#ax.set_yscale('log')\n",
    "\n",
    "im = ax.imshow(output.T, aspect='auto', interpolation='none', cmap='magma', origin='lower', vmax=0.35,\n",
    "               extent=[0, time.max(), -117.71,247.93])\n",
    "im = ax2.imshow(output.T, aspect='auto', interpolation='none', cmap='magma', origin='lower', vmax=0.35,\n",
    "               extent=[0, time.max(), -117.71,247.93])\n",
    "ax.set_ylabel('% D uptake')\n",
    "ax2.set_xlabel('Time (min)')\n",
    "ax2.set_title('Global HDX PpiB WT 4°C')\n",
    "ax.set_ylim(0,120)\n",
    "ax2.set_ylim(0,120)\n",
    "fig.colorbar(im, label='Fractional population')\n",
    "#plt.tight_layout()\n",
    "\n",
    "ax.set_xlim(0, 0.05)\n",
    "ax2.set_xlim(0.3,20 )\n",
    "ax.set_yticks([0,20,40,60,80,100])\n",
    "ax.set_xticks([])\n",
    "ax2.set_xticks((0.33,5,10,15,20))\n",
    "ax2.set_yticks([])\n",
    "\n",
    "\n",
    "\n",
    "plt.savefig('PpiB_linear_20 min_short2.png')"
   ]
  },
  {
   "cell_type": "code",
   "execution_count": 10,
   "metadata": {
    "pycharm": {
     "name": "#%%\n"
    }
   },
   "outputs": [
    {
     "data": {
      "text/plain": [
       "815.989"
      ]
     },
     "execution_count": 10,
     "metadata": {},
     "output_type": "execute_result"
    }
   ],
   "source": [
    "xdata[0].max()"
   ]
  },
  {
   "cell_type": "code",
   "execution_count": null,
   "metadata": {},
   "outputs": [],
   "source": []
  },
  {
   "cell_type": "code",
   "execution_count": null,
   "metadata": {},
   "outputs": [],
   "source": []
  }
 ],
 "metadata": {
  "kernelspec": {
   "display_name": "Python [conda env:py36_Global] *",
   "language": "python",
   "name": "conda-env-py36_Global-py"
  },
  "language_info": {
   "codemirror_mode": {
    "name": "ipython",
    "version": 3
   },
   "file_extension": ".py",
   "mimetype": "text/x-python",
   "name": "python",
   "nbconvert_exporter": "python",
   "pygments_lexer": "ipython3",
   "version": "3.6.10"
  }
 },
 "nbformat": 4,
 "nbformat_minor": 1
}
