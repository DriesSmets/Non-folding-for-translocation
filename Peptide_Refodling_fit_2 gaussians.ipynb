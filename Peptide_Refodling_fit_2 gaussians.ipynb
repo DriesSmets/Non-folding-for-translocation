{
 "cells": [
  {
   "cell_type": "code",
   "execution_count": 1,
   "metadata": {
    "pycharm": {
     "name": "#%%\n"
    }
   },
   "outputs": [],
   "source": [
    "import pandas as pd\n",
    "import matplotlib.pyplot as plt\n",
    "from scipy.signal import find_peaks\n",
    "import numpy as np\n",
    "from symfit import Variable, Parameter, parameters, Fit, exp, pi, sqrt\n",
    "from symfit.distributions import Gaussian\n",
    "from symfit.core.models import CallableModel\n",
    "\n",
    "from functools import reduce\n",
    "from operator import add\n"
   ]
  },
  {
   "cell_type": "code",
   "execution_count": 2,
   "metadata": {
    "pycharm": {
     "name": "#%%\n"
    }
   },
   "outputs": [
    {
     "data": {
      "text/plain": [
       "655"
      ]
     },
     "execution_count": 2,
     "metadata": {},
     "output_type": "execute_result"
    }
   ],
   "source": [
    "df = pd.read_excel(\"peptide 24_32_4Cfolding_ppiA.xlsx\", skiprows=[0, 1], header=[0])\n",
    "df = df.dropna(how='any')\n",
    "df.size\n",
    "len(df.index)"
   ]
  },
  {
   "cell_type": "code",
   "execution_count": 8,
   "metadata": {
    "pycharm": {
     "name": "#%%\n"
    }
   },
   "outputs": [],
   "source": [
    "df = pd.read_excel(\"peptide 24_32_4Cfolding_ppiA.xlsx\", skiprows=[0, 1], header=[0])\n",
    "df = df.dropna(how='any')\n",
    "\n",
    "series_dict = {}\n",
    "for i, col in enumerate(df):\n",
    "    if i % 2 == 0:\n",
    "        idx = df.iloc[:, i]\n",
    "        data = df.iloc[:, i + 1]\n",
    "        data.index = idx\n",
    "        data /= np.trapz(data, data.index)\n",
    "\n",
    "        series_dict[data.name] = data"
   ]
  },
  {
   "cell_type": "code",
   "execution_count": 9,
   "metadata": {
    "pycharm": {
     "name": "#%%\n"
    }
   },
   "outputs": [
    {
     "data": {
      "text/plain": [
       "dict_keys(['FD_1', 'FD_2', 'FD_3', 'FD_4', 'FD_5', 'T0_1', 'T0-2', 'T0_3', 'T0-4', 'T0-5', '5sec_1', '5sec_2', '5sec_3', '10sec_1', '10sec_2', '10sec_3', '10sec_4', '10sec_5', '10sec_6', '20sec_1', '20sec_2', '20sec_3', '20sec_4', '20sec_5', '40sec_1', '40sec_2', '40sec_3', '40sec_4', '40sec_5', '40sec_6', '40sec_7', '1min_1', '1min_2', '1min_3', '1min_4', '1min_5', '1min_6', '2.5min_1', '2.5min_2', '2.5min_3', '5min_1', '5min_2', '5min_3', '10min_1', '10min_2', '10min_3', '10min_4', '10min_5', '15min_1', '15min_2', '15min_3', '15min_4', '20min_1', '20min_2', '20min_3', '30min_1', '30min_2', '30min_3', '45min_1', '45min_2', '45min_3', '1hr_1', '1hrs_2', '1hr_3', '3hrs_1', '16hrs_1', 'Native_1', 'Native_2', 'Naïve_3'])"
      ]
     },
     "execution_count": 9,
     "metadata": {},
     "output_type": "execute_result"
    }
   ],
   "source": [
    "series_dict.keys()"
   ]
  },
  {
   "cell_type": "code",
   "execution_count": 56,
   "metadata": {
    "pycharm": {
     "name": "#%%\n"
    },
    "scrolled": true
   },
   "outputs": [
    {
     "data": {
      "text/plain": [
       "[<matplotlib.lines.Line2D at 0x27e632c4f60>]"
      ]
     },
     "execution_count": 56,
     "metadata": {},
     "output_type": "execute_result"
    },
    {
     "data": {
      "image/png": "[encoded data removed]",
      "text/plain": [
       "<Figure size 432x288 with 1 Axes>"
      ]
     },
     "metadata": {
      "needs_background": "light"
     },
     "output_type": "display_data"
    }
   ],
   "source": [
    "s = series_dict['5sec_1']\n",
    "fig, ax = plt.subplots()\n",
    "ax.plot(s.index, s)\n"
   ]
  },
  {
   "cell_type": "code",
   "execution_count": 27,
   "metadata": {
    "pycharm": {
     "name": "#%%\n"
    }
   },
   "outputs": [
    {
     "data": {
      "text/plain": [
       "<matplotlib.collections.PathCollection at 0x27e633e45f8>"
      ]
     },
     "execution_count": 27,
     "metadata": {},
     "output_type": "execute_result"
    },
    {
     "data": {
      "image/png": "[encoded data removed]",
      "text/plain": [
       "<Figure size 432x288 with 1 Axes>"
      ]
     },
     "metadata": {
      "needs_background": "light"
     },
     "output_type": "display_data"
    }
   ],
   "source": [
    "idx = find_peaks(s, prominence=0.25)[0]\n",
    "\n",
    "xp = s.index.to_numpy()[idx]\n",
    "yp = s.to_numpy()[idx]\n",
    "\n",
    "fig, ax = plt.subplots()\n",
    "ax.plot(s.index, s)\n",
    "ax.scatter(xp, yp, color='r')"
   ]
  },
  {
   "cell_type": "code",
   "execution_count": 39,
   "metadata": {
    "pycharm": {
     "name": "#%%\n"
    }
   },
   "outputs": [],
   "source": [
    "#optional: otsu thds\n",
    "n = 2\n",
    "vals =np.linspace(xp.min(), xp.max(), num=2*n+1, endpoint=True)\n",
    "\n",
    "x_pos = vals[1::2]\n",
    "x_sig = 2*np.diff(xp).mean()\n",
    "amp = [yp[np.argmin(np.abs(_x - xp))] for _x in x_pos]\n",
    "\n"
   ]
  },
  {
   "cell_type": "code",
   "execution_count": 40,
   "metadata": {
    "pycharm": {
     "name": "#%%\n"
    }
   },
   "outputs": [
    {
     "name": "stdout",
     "output_type": "stream",
     "text": [
      "0\n",
      "1\n"
     ]
    }
   ],
   "source": [
    "x_var = Variable('x')\n",
    "y_var = Variable('y')\n",
    "\n",
    "guassians = []\n",
    "for i in range(n):\n",
    "    print(i)\n",
    "    a_par, mu_par, sig_par = parameters(f'a_{i} mu_{i} sigma_{i}')\n",
    "    a_par.value = amp[i]\n",
    "    mu_par.value = x_pos[i]\n",
    "    sig_par.value = x_sig\n",
    "\n",
    "    gauss = a_par*exp(-(x_var - mu_par)**2/(2*sig_par**2))\n",
    "    guassians.append(gauss)"
   ]
  },
  {
   "cell_type": "code",
   "execution_count": 41,
   "metadata": {
    "pycharm": {
     "name": "#%%\n"
    }
   },
   "outputs": [
    {
     "data": {
      "text/plain": [
       "<symfit.core.models.CallableModel at 0x27e63669ef0>"
      ]
     },
     "execution_count": 41,
     "metadata": {},
     "output_type": "execute_result"
    }
   ],
   "source": [
    "reduce(add, guassians)\n",
    "\n",
    "model = CallableModel({y_var: reduce(add, guassians)})\n",
    "model\n"
   ]
  },
  {
   "cell_type": "code",
   "execution_count": 42,
   "metadata": {
    "pycharm": {
     "name": "#%%\n"
    },
    "scrolled": true
   },
   "outputs": [
    {
     "name": "stdout",
     "output_type": "stream",
     "text": [
      "Scalar Parameters:\n",
      "Parameter | Value       | Standard Deviation\n",
      "a_0         2.015512e+00  None\n",
      "a_1         5.398891e+00  None\n",
      "mu_0        4.551539e+02  None\n",
      "mu_1        4.559040e+02  None\n",
      "sigma_0     6.402691e-01  None\n",
      "sigma_1     8.547538e-01  None\n",
      "Status message         Desired error not necessarily achieved due to precision loss.\n",
      "Number of iterations   65\n",
      "Objective              <symfit.core.objectives.LeastSquares object at 0x0000027E652ECCF8>\n",
      "Minimizer              <symfit.core.minimizers.BFGS object at 0x0000027E652ECE48>\n",
      "\n",
      "Goodness of fit qualifiers:\n",
      "chi_squared            0.017417132175374814\n",
      "objective_value        0.008708566087687407\n",
      "r_squared              0.9995239362878895\n"
     ]
    }
   ],
   "source": [
    "fit = Fit(model, x=xp, y=yp)\n",
    "fit_result = fit.execute()\n",
    "print(fit_result)"
   ]
  },
  {
   "cell_type": "code",
   "execution_count": 49,
   "metadata": {
    "pycharm": {
     "name": "#%%\n"
    },
    "scrolled": true
   },
   "outputs": [
    {
     "data": {
      "text/plain": [
       "0.1741895846994604"
      ]
     },
     "execution_count": 49,
     "metadata": {},
     "output_type": "execute_result"
    }
   ],
   "source": [
    "x_vec = np.linspace(s.index.min(), s.index.max(), num=100, endpoint=True)\n",
    "y_vec = model(x=x_vec, **fit_result.params)\n",
    "y_vec[0][0]"
   ]
  },
  {
   "cell_type": "code",
   "execution_count": 51,
   "metadata": {
    "pycharm": {
     "name": "#%%\n"
    }
   },
   "outputs": [
    {
     "name": "stdout",
     "output_type": "stream",
     "text": [
      "3.2189095516940247\n",
      "11.538923994426412\n"
     ]
    },
    {
     "data": {
      "image/png": "[encoded data removed]",
      "text/plain": [
       "<Figure size 432x288 with 1 Axes>"
      ]
     },
     "metadata": {
      "needs_background": "light"
     },
     "output_type": "display_data"
    }
   ],
   "source": [
    "\n",
    "fig, ax = plt.subplots()\n",
    "ax.plot(s.index, s, color='k',linewidth=0.7)\n",
    "#ax.scatter(xp, yp, color='r')\n",
    "ax.plot(x_vec, y_vec[0], color='r')\n",
    "ax.set_ylim (0,7)\n",
    "ax.set_xlim(453,460)\n",
    "\n",
    "for g in guassians:\n",
    "    y_g = g(x=x_vec, **fit_result.params)\n",
    "    ax.plot(x_vec, y_g, color='k', linestyle='--')\n",
    "    integral = np.trapz(y_g, x_vec)\n",
    "    print(integral)\n",
    "#plt.savefig('4C_3h.png')\n",
    "\n",
    "#ax.axvline(centroid, color='g')"
   ]
  },
  {
   "cell_type": "code",
   "execution_count": null,
   "metadata": {},
   "outputs": [],
   "source": []
  }
 ],
 "metadata": {
  "kernelspec": {
   "display_name": "Python [conda env:py36_Global] *",
   "language": "python",
   "name": "conda-env-py36_Global-py"
  },
  "language_info": {
   "codemirror_mode": {
    "name": "ipython",
    "version": 3
   },
   "file_extension": ".py",
   "mimetype": "text/x-python",
   "name": "python",
   "nbconvert_exporter": "python",
   "pygments_lexer": "ipython3",
   "version": "3.6.10"
  }
 },
 "nbformat": 4,
 "nbformat_minor": 1
}
