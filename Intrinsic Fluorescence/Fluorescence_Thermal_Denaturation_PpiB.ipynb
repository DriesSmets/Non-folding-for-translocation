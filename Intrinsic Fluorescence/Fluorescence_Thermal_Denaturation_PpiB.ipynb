{
 "cells": [
  {
   "cell_type": "code",
   "execution_count": 1,
   "metadata": {},
   "outputs": [],
   "source": [
    "%matplotlib inline\n",
    "import statistics\n",
    "\n",
    "import matplotlib.pyplot as plt\n",
    "import numpy as np\n",
    "import scipy.signal as signal"
   ]
  },
  {
   "cell_type": "code",
   "execution_count": 2,
   "metadata": {
    "scrolled": true
   },
   "outputs": [
    {
     "ename": "OSError",
     "evalue": "Thermal_FS_PpiB.txt not found.",
     "output_type": "error",
     "traceback": [
      "\u001B[1;31m---------------------------------------------------------------------------\u001B[0m",
      "\u001B[1;31mOSError\u001B[0m                                   Traceback (most recent call last)",
      "\u001B[1;32m<ipython-input-2-1b527a474cde>\u001B[0m in \u001B[0;36m<module>\u001B[1;34m\u001B[0m\n\u001B[1;32m----> 1\u001B[1;33m \u001B[0mspectra\u001B[0m \u001B[1;33m=\u001B[0m \u001B[0mnp\u001B[0m\u001B[1;33m.\u001B[0m\u001B[0mgenfromtxt\u001B[0m\u001B[1;33m(\u001B[0m\u001B[1;34m'Thermal_FS_PpiB.txt'\u001B[0m\u001B[1;33m)\u001B[0m\u001B[1;33m.\u001B[0m\u001B[0mT\u001B[0m\u001B[1;33m\u001B[0m\u001B[1;33m\u001B[0m\u001B[0m\n\u001B[0m\u001B[0;32m      2\u001B[0m \u001B[0mspectra\u001B[0m\u001B[1;33m.\u001B[0m\u001B[0mshape\u001B[0m\u001B[1;33m\u001B[0m\u001B[1;33m\u001B[0m\u001B[0m\n\u001B[0;32m      3\u001B[0m \u001B[1;33m\u001B[0m\u001B[0m\n",
      "\u001B[1;32m~\\Miniconda3\\envs\\py36Global\\lib\\site-packages\\numpy\\lib\\npyio.py\u001B[0m in \u001B[0;36mgenfromtxt\u001B[1;34m(fname, dtype, comments, delimiter, skip_header, skip_footer, converters, missing_values, filling_values, usecols, names, excludelist, deletechars, replace_space, autostrip, case_sensitive, defaultfmt, unpack, usemask, loose, invalid_raise, max_rows, encoding)\u001B[0m\n\u001B[0;32m   1747\u001B[0m             \u001B[0mfname\u001B[0m \u001B[1;33m=\u001B[0m \u001B[0mos_fspath\u001B[0m\u001B[1;33m(\u001B[0m\u001B[0mfname\u001B[0m\u001B[1;33m)\u001B[0m\u001B[1;33m\u001B[0m\u001B[1;33m\u001B[0m\u001B[0m\n\u001B[0;32m   1748\u001B[0m         \u001B[1;32mif\u001B[0m \u001B[0misinstance\u001B[0m\u001B[1;33m(\u001B[0m\u001B[0mfname\u001B[0m\u001B[1;33m,\u001B[0m \u001B[0mstr\u001B[0m\u001B[1;33m)\u001B[0m\u001B[1;33m:\u001B[0m\u001B[1;33m\u001B[0m\u001B[1;33m\u001B[0m\u001B[0m\n\u001B[1;32m-> 1749\u001B[1;33m             \u001B[0mfid\u001B[0m \u001B[1;33m=\u001B[0m \u001B[0mnp\u001B[0m\u001B[1;33m.\u001B[0m\u001B[0mlib\u001B[0m\u001B[1;33m.\u001B[0m\u001B[0m_datasource\u001B[0m\u001B[1;33m.\u001B[0m\u001B[0mopen\u001B[0m\u001B[1;33m(\u001B[0m\u001B[0mfname\u001B[0m\u001B[1;33m,\u001B[0m \u001B[1;34m'rt'\u001B[0m\u001B[1;33m,\u001B[0m \u001B[0mencoding\u001B[0m\u001B[1;33m=\u001B[0m\u001B[0mencoding\u001B[0m\u001B[1;33m)\u001B[0m\u001B[1;33m\u001B[0m\u001B[1;33m\u001B[0m\u001B[0m\n\u001B[0m\u001B[0;32m   1750\u001B[0m             \u001B[0mfid_ctx\u001B[0m \u001B[1;33m=\u001B[0m \u001B[0mcontextlib\u001B[0m\u001B[1;33m.\u001B[0m\u001B[0mclosing\u001B[0m\u001B[1;33m(\u001B[0m\u001B[0mfid\u001B[0m\u001B[1;33m)\u001B[0m\u001B[1;33m\u001B[0m\u001B[1;33m\u001B[0m\u001B[0m\n\u001B[0;32m   1751\u001B[0m         \u001B[1;32melse\u001B[0m\u001B[1;33m:\u001B[0m\u001B[1;33m\u001B[0m\u001B[1;33m\u001B[0m\u001B[0m\n",
      "\u001B[1;32m~\\Miniconda3\\envs\\py36Global\\lib\\site-packages\\numpy\\lib\\_datasource.py\u001B[0m in \u001B[0;36mopen\u001B[1;34m(path, mode, destpath, encoding, newline)\u001B[0m\n\u001B[0;32m    193\u001B[0m \u001B[1;33m\u001B[0m\u001B[0m\n\u001B[0;32m    194\u001B[0m     \u001B[0mds\u001B[0m \u001B[1;33m=\u001B[0m \u001B[0mDataSource\u001B[0m\u001B[1;33m(\u001B[0m\u001B[0mdestpath\u001B[0m\u001B[1;33m)\u001B[0m\u001B[1;33m\u001B[0m\u001B[1;33m\u001B[0m\u001B[0m\n\u001B[1;32m--> 195\u001B[1;33m     \u001B[1;32mreturn\u001B[0m \u001B[0mds\u001B[0m\u001B[1;33m.\u001B[0m\u001B[0mopen\u001B[0m\u001B[1;33m(\u001B[0m\u001B[0mpath\u001B[0m\u001B[1;33m,\u001B[0m \u001B[0mmode\u001B[0m\u001B[1;33m,\u001B[0m \u001B[0mencoding\u001B[0m\u001B[1;33m=\u001B[0m\u001B[0mencoding\u001B[0m\u001B[1;33m,\u001B[0m \u001B[0mnewline\u001B[0m\u001B[1;33m=\u001B[0m\u001B[0mnewline\u001B[0m\u001B[1;33m)\u001B[0m\u001B[1;33m\u001B[0m\u001B[1;33m\u001B[0m\u001B[0m\n\u001B[0m\u001B[0;32m    196\u001B[0m \u001B[1;33m\u001B[0m\u001B[0m\n\u001B[0;32m    197\u001B[0m \u001B[1;33m\u001B[0m\u001B[0m\n",
      "\u001B[1;32m~\\Miniconda3\\envs\\py36Global\\lib\\site-packages\\numpy\\lib\\_datasource.py\u001B[0m in \u001B[0;36mopen\u001B[1;34m(self, path, mode, encoding, newline)\u001B[0m\n\u001B[0;32m    533\u001B[0m                                       encoding=encoding, newline=newline)\n\u001B[0;32m    534\u001B[0m         \u001B[1;32melse\u001B[0m\u001B[1;33m:\u001B[0m\u001B[1;33m\u001B[0m\u001B[1;33m\u001B[0m\u001B[0m\n\u001B[1;32m--> 535\u001B[1;33m             \u001B[1;32mraise\u001B[0m \u001B[0mIOError\u001B[0m\u001B[1;33m(\u001B[0m\u001B[1;34m\"%s not found.\"\u001B[0m \u001B[1;33m%\u001B[0m \u001B[0mpath\u001B[0m\u001B[1;33m)\u001B[0m\u001B[1;33m\u001B[0m\u001B[1;33m\u001B[0m\u001B[0m\n\u001B[0m\u001B[0;32m    536\u001B[0m \u001B[1;33m\u001B[0m\u001B[0m\n\u001B[0;32m    537\u001B[0m \u001B[1;33m\u001B[0m\u001B[0m\n",
      "\u001B[1;31mOSError\u001B[0m: Thermal_FS_PpiB.txt not found."
     ]
    }
   ],
   "source": [
    "spectra = np.genfromtxt('Thermal_FS_PpiB.txt').T\n",
    "spectra.shape"
   ]
  },
  {
   "cell_type": "code",
   "execution_count": null,
   "metadata": {
    "scrolled": false
   },
   "outputs": [],
   "source": [
    "#plot all raw data\n",
    "x=spectra[0]\n",
    "y=spectra[1]\n",
    "plt.xlabel('Temperature')\n",
    "plt.ylabel('fluorescence')\n",
    "plt.plot(*spectra)"
   ]
  },
  {
   "cell_type": "code",
   "execution_count": null,
   "metadata": {},
   "outputs": [],
   "source": [
    "#plot data Ex260-Ex304 (1)\n",
    "x1=spectra[0]\n",
    "y1=spectra[1]\n",
    "# Design the Butterworth filter\n",
    "N  = 3    # Filter order\n",
    "Wn = 0.1 # Cutoff frequency\n",
    "B, A = signal.butter(N, Wn, output='ba')\n",
    "smooth_data1 = signal.filtfilt(B,A,y1)\n",
    "\n",
    "yprime1 = np.diff(smooth_data1)\n",
    "xprime1 = x[:-1]+0.5*np.diff(x1)\n",
    "fig,(ax1,ax2)=plt.subplots(2)\n",
    "#ax1.plot(x1,y1)\n",
    "ax1.plot(x1,smooth_data1)\n",
    "ax2.plot(xprime1,yprime1)\n",
    "#plt.plot(x,y)\n",
    "plt.xlabel('Temperature')\n",
    "plt.ylabel('Fluorescence')\n",
    "\n",
    "plt.show()\n",
    "np.argmin(yprime1)\n",
    "xprime1[np.argmin(yprime1)]"
   ]
  },
  {
   "cell_type": "code",
   "execution_count": null,
   "metadata": {},
   "outputs": [],
   "source": [
    "#plot data Ex260-Ex304 (2)\n",
    "x2=spectra[2]\n",
    "y2=spectra[3]\n",
    "# Design the Buterworth filter\n",
    "N  = 3    # Filter order\n",
    "Wn = 0.1 # Cutoff frequency\n",
    "B, A = signal.butter(N, Wn, output='ba')\n",
    "smooth_data2 = signal.filtfilt(B,A,y2)\n",
    "\n",
    "yprime2 = np.diff(smooth_data2)\n",
    "xprime2 = x[:-1]+0.5*np.diff(x2)\n",
    "fig,(ax1,ax2)=plt.subplots(2)\n",
    "ax1.plot(x2,y2)\n",
    "ax1.plot(x2,smooth_data2)\n",
    "ax2.plot(xprime2,yprime2)\n",
    "#plt.plot(x,y)\n",
    "plt.xlabel('Temperature (C)')\n",
    "plt.ylabel('delta f')\n",
    "\n",
    "plt.show()\n",
    "np.argmin(yprime2)\n",
    "xprime2[np.argmin(yprime2)]"
   ]
  },
  {
   "cell_type": "code",
   "execution_count": null,
   "metadata": {
    "scrolled": false
   },
   "outputs": [],
   "source": [
    "#plot data Ex260-Ex327 (1)\n",
    "x3=spectra[2]\n",
    "y3=spectra[3]\n",
    "# Design the Buterworth filter\n",
    "N  = 3    # Filter order\n",
    "Wn = 0.1 # Cutoff frequency\n",
    "B, A = signal.butter(N, Wn, output='ba')\n",
    "smooth_data3 = signal.filtfilt(B,A,y3)\n",
    "\n",
    "yprime3 = np.diff(smooth_data3)\n",
    "xprime3 = x[:-1]+0.5*np.diff(x)\n",
    "fig,(ax1,ax2)=plt.subplots(2)\n",
    "ax1.plot(x3,y3)\n",
    "ax1.plot(x3,smooth_data3)\n",
    "ax2.plot(xprime3,yprime3)\n",
    "#plt.plot(x,y)\n",
    "plt.xlabel('Temperature')\n",
    "plt.ylabel('fluorescence')\n",
    "\n",
    "plt.show()\n",
    "np.argmin(yprime3)\n",
    "xprime3[np.argmin(yprime3)]"
   ]
  },
  {
   "cell_type": "code",
   "execution_count": null,
   "metadata": {},
   "outputs": [],
   "source": [
    "#plot data Ex260-Ex327 (2)\n",
    "x4=spectra[4]\n",
    "y4=spectra[5]\n",
    "# Design the Buterworth filter\n",
    "N  = 3    # Filter order\n",
    "Wn = 0.1 # Cutoff frequency\n",
    "B, A = signal.butter(N, Wn, output='ba')\n",
    "smooth_data4 = signal.filtfilt(B,A,y4)\n",
    "\n",
    "yprime4 = np.diff(smooth_data4)\n",
    "xprime4 = x[:-1]+0.5*np.diff(x)\n",
    "fig,(ax1,ax2)=plt.subplots(2)\n",
    "#ax1.plot(x4,y4)\n",
    "ax1.plot(x4,smooth_data4)\n",
    "ax2.plot(xprime4,yprime4)\n",
    "#plt.plot(x,y)\n",
    "plt.xlabel('Temperature')\n",
    "plt.ylabel('Fluorescence')\n",
    "\n",
    "plt.show()\n",
    "np.argmin(yprime4)\n",
    "xprime4[np.argmin(yprime4)]"
   ]
  },
  {
   "cell_type": "code",
   "execution_count": null,
   "metadata": {},
   "outputs": [],
   "source": [
    "list=[xprime1[np.argmin(yprime1)],xprime2[np.argmin(yprime2)],xprime3[np.argmin(yprime3)],xprime4[np.argmin(yprime4)]]\n",
    "statistics.mean(list)"
   ]
  },
  {
   "cell_type": "code",
   "execution_count": null,
   "metadata": {
    "pycharm": {
     "name": "#%%\n"
    }
   },
   "outputs": [],
   "source": [
    "statistics.pstdev(list)\n",
    "\n"
   ]
  }
 ],
 "metadata": {
  "kernelspec": {
   "name": "conda-env-py36Global-py",
   "language": "python",
   "display_name": "Python [conda env:py36Global]"
  },
  "language_info": {
   "codemirror_mode": {
    "name": "ipython",
    "version": 3
   },
   "file_extension": ".py",
   "mimetype": "text/x-python",
   "name": "python",
   "nbconvert_exporter": "python",
   "pygments_lexer": "ipython3",
   "version": "3.6.10"
  },
  "varInspector": {
   "cols": {
    "lenName": 16,
    "lenType": 16,
    "lenVar": 40
   },
   "kernels_config": {
    "python": {
     "delete_cmd_postfix": "",
     "delete_cmd_prefix": "del ",
     "library": "var_list.py",
     "varRefreshCmd": "print(var_dic_list())"
    },
    "r": {
     "delete_cmd_postfix": ") ",
     "delete_cmd_prefix": "rm(",
     "library": "var_list.r",
     "varRefreshCmd": "cat(var_dic_list()) "
    }
   },
   "types_to_exclude": [
    "module",
    "function",
    "builtin_function_or_method",
    "instance",
    "_Feature"
   ],
   "window_display": false
  }
 },
 "nbformat": 4,
 "nbformat_minor": 2
}