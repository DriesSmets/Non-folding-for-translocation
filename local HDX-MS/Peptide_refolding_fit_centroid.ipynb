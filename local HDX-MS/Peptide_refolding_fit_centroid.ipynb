{
 "cells": [
  {
   "cell_type": "code",
   "execution_count": 1,
   "metadata": {},
   "outputs": [],
   "source": [
    "import pandas as pd\n",
    "import matplotlib.pyplot as plt\n",
    "from scipy.signal import find_peaks\n",
    "import numpy as np"
   ]
  },
  {
   "cell_type": "code",
   "execution_count": 70,
   "metadata": {
    "pycharm": {
     "name": "#%%\n"
    }
   },
   "outputs": [
    {
     "data": {
      "text/plain": [
       "734"
      ]
     },
     "execution_count": 70,
     "metadata": {},
     "output_type": "execute_result"
    }
   ],
   "source": [
    "df = pd.read_excel(\"peptide-111_119 -4Cfold_PppiB_Febr2021_2.xlsx\", skiprows=[0, 1], header=[0])\n",
    "\n",
    "df = df.dropna(how='any')\n",
    "df.size\n",
    "len(df.index)"
   ]
  },
  {
   "cell_type": "code",
   "execution_count": 71,
   "metadata": {
    "pycharm": {
     "name": "#%%\n"
    }
   },
   "outputs": [],
   "source": [
    "df = pd.read_excel(\"peptide-111_119 -4Cfold_PppiB_Febr2021_2.xlsx\", skiprows=[0, 1], header=[0])\n",
    "df = df.dropna(how='any')\n",
    "\n",
    "series_dict = {}\n",
    "for i, col in enumerate(df):\n",
    "    if i % 2 == 0:\n",
    "        idx = df.iloc[:, i]\n",
    "        data = df.iloc[:, i + 1]\n",
    "        data.index = idx\n",
    "        data /= np.trapz(data, data.index)\n",
    "\n",
    "        series_dict[data.name] = data"
   ]
  },
  {
   "cell_type": "code",
   "execution_count": 72,
   "metadata": {},
   "outputs": [
    {
     "data": {
      "text/plain": [
       "dict_keys(['FD_1', 'FD_2', 'FD_3', 'T0_1', 'T0_2', 'T0_3', 'T0_4', '5sec_1', '5sec_2', '10sec_1', '10sec_2', '10sec_3', '20sec_1', '20sec_2', '20sec_3', '20sec_4', '20sec_5', '30sec_1', '30sec_2', '30sec_3', '40sec_1', '40sec_2', '1min)_1', '1min_2', '1min_3', '2.5min_1', '2.5min_2', '2.5min_3', '5min_1', '5min_2', '5min_3', '10min_1', '10min_2', '10min_3', '15min_1', '15min_2', '15min_3', '20min_1', '30min_1', 'Native_1', 'Native_2', 'Native_3'])"
      ]
     },
     "execution_count": 72,
     "metadata": {},
     "output_type": "execute_result"
    }
   ],
   "source": [
    "series_dict.keys()"
   ]
  },
  {
   "cell_type": "code",
   "execution_count": 94,
   "metadata": {
    "pycharm": {
     "name": "#%%\n"
    }
   },
   "outputs": [
    {
     "ename": "KeyError",
     "evalue": "'30min_2'",
     "output_type": "error",
     "traceback": [
      "\u001b[1;31m---------------------------------------------------------------------------\u001b[0m",
      "\u001b[1;31mKeyError\u001b[0m                                  Traceback (most recent call last)",
      "\u001b[1;32m<ipython-input-94-04b0555e85ea>\u001b[0m in \u001b[0;36m<module>\u001b[1;34m\u001b[0m\n\u001b[1;32m----> 1\u001b[1;33m \u001b[0ms\u001b[0m \u001b[1;33m=\u001b[0m \u001b[0mseries_dict\u001b[0m\u001b[1;33m[\u001b[0m\u001b[1;34m'30min_2'\u001b[0m\u001b[1;33m]\u001b[0m\u001b[1;33m\u001b[0m\u001b[1;33m\u001b[0m\u001b[0m\n\u001b[0m\u001b[0;32m      2\u001b[0m \u001b[0mfig\u001b[0m\u001b[1;33m,\u001b[0m \u001b[0max\u001b[0m \u001b[1;33m=\u001b[0m \u001b[0mplt\u001b[0m\u001b[1;33m.\u001b[0m\u001b[0msubplots\u001b[0m\u001b[1;33m(\u001b[0m\u001b[1;33m)\u001b[0m\u001b[1;33m\u001b[0m\u001b[1;33m\u001b[0m\u001b[0m\n\u001b[0;32m      3\u001b[0m \u001b[0max\u001b[0m\u001b[1;33m.\u001b[0m\u001b[0mplot\u001b[0m\u001b[1;33m(\u001b[0m\u001b[0ms\u001b[0m\u001b[1;33m.\u001b[0m\u001b[0mindex\u001b[0m\u001b[1;33m,\u001b[0m \u001b[0ms\u001b[0m\u001b[1;33m)\u001b[0m\u001b[1;33m\u001b[0m\u001b[1;33m\u001b[0m\u001b[0m\n",
      "\u001b[1;31mKeyError\u001b[0m: '30min_2'"
     ]
    }
   ],
   "source": [
    "s = series_dict['30min_2']\n",
    "fig, ax = plt.subplots()\n",
    "ax.plot(s.index, s)\n"
   ]
  },
  {
   "cell_type": "code",
   "execution_count": 92,
   "metadata": {},
   "outputs": [
    {
     "data": {
      "text/plain": [
       "462.532923049978"
      ]
     },
     "execution_count": 92,
     "metadata": {},
     "output_type": "execute_result"
    }
   ],
   "source": [
    "centroid = np.average(s.index, weights=s)\n",
    "centroid"
   ]
  },
  {
   "cell_type": "code",
   "execution_count": 93,
   "metadata": {
    "pycharm": {
     "name": "#%%\n"
    }
   },
   "outputs": [
    {
     "data": {
      "image/png": "[encoded data removed]",
      "text/plain": [
       "<Figure size 432x288 with 1 Axes>"
      ]
     },
     "metadata": {
      "needs_background": "light"
     },
     "output_type": "display_data"
    }
   ],
   "source": [
    "fig, ax = plt.subplots()\n",
    "ax.plot(s.index, s, color ='k', linewidth=0.7)\n",
    "#ax.scatter(xp, yp, color='r')\n",
    "#ax.plot(x_vec, y_vec[0],color='r')\n",
    "ax.set_ylim(0,9)\n",
    "ax.set_xlim(460,467)\n",
    "ax.axvline(centroid, color='r')\n",
    "plt.savefig('4C_111_119_30min_centr.png')\n"
   ]
  },
  {
   "cell_type": "code",
   "execution_count": null,
   "metadata": {},
   "outputs": [],
   "source": []
  }
 ],
 "metadata": {
  "kernelspec": {
   "display_name": "Python [conda env:py36_Global] *",
   "language": "python",
   "name": "conda-env-py36_Global-py"
  },
  "language_info": {
   "codemirror_mode": {
    "name": "ipython",
    "version": 3
   },
   "file_extension": ".py",
   "mimetype": "text/x-python",
   "name": "python",
   "nbconvert_exporter": "python",
   "pygments_lexer": "ipython3",
   "version": "3.6.10"
  }
 },
 "nbformat": 4,
 "nbformat_minor": 1
}
