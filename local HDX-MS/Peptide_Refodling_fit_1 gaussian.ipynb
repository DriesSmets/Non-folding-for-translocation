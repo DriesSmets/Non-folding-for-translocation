{
 "cells": [
  {
   "cell_type": "code",
   "execution_count": 1,
   "metadata": {},
   "outputs": [],
   "source": [
    "import pandas as pd\n",
    "import matplotlib.pyplot as plt\n",
    "from scipy.signal import find_peaks\n",
    "import numpy as np\n",
    "from symfit import Variable, Parameter, parameters, Fit, exp, pi, sqrt\n",
    "from symfit.distributions import Gaussian\n",
    "from symfit.core.models import CallableModel\n",
    "\n",
    "from functools import reduce\n",
    "from operator import add\n"
   ]
  },
  {
   "cell_type": "code",
   "execution_count": 2,
   "metadata": {
    "pycharm": {
     "name": "#%%\n"
    }
   },
   "outputs": [
    {
     "data": {
      "text/plain": [
       "755"
      ]
     },
     "execution_count": 2,
     "metadata": {},
     "output_type": "execute_result"
    }
   ],
   "source": [
    "df = pd.read_excel(\"peptide 24_42_4Cfolding_ppiA.xlsx\", skiprows=[0, 1], header=[0])\n",
    "\n",
    "df = df.dropna(how='any')\n",
    "df.size\n",
    "len(df.index)"
   ]
  },
  {
   "cell_type": "code",
   "execution_count": 3,
   "metadata": {
    "pycharm": {
     "name": "#%%\n"
    }
   },
   "outputs": [],
   "source": [
    "df = pd.read_excel(\"peptide 24_42_4Cfolding_ppiA.xlsx\", skiprows=[0, 1], header=[0])\n",
    "df = df.dropna(how='any')\n",
    "\n",
    "series_dict = {}\n",
    "for i, col in enumerate(df):\n",
    "    if i % 2 == 0:\n",
    "        idx = df.iloc[:, i]\n",
    "        data = df.iloc[:, i + 1]\n",
    "        data.index = idx\n",
    "        data /= np.trapz(data, data.index)\n",
    "\n",
    "        series_dict[data.name] = data"
   ]
  },
  {
   "cell_type": "code",
   "execution_count": 4,
   "metadata": {
    "pycharm": {
     "name": "#%%\n"
    }
   },
   "outputs": [
    {
     "data": {
      "text/plain": [
       "[<matplotlib.lines.Line2D at 0x19b8d8d9550>]"
      ]
     },
     "execution_count": 4,
     "metadata": {},
     "output_type": "execute_result"
    },
    {
     "data": {
      "image/png": "[encoded data removed]",
      "text/plain": [
       "<Figure size 432x288 with 1 Axes>"
      ]
     },
     "metadata": {
      "needs_background": "light"
     },
     "output_type": "display_data"
    }
   ],
   "source": [
    "s = series_dict['fd_3']\n",
    "fig, ax = plt.subplots()\n",
    "ax.plot(s.index, s)\n"
   ]
  },
  {
   "cell_type": "code",
   "execution_count": 5,
   "metadata": {
    "pycharm": {
     "name": "#%%\n"
    }
   },
   "outputs": [
    {
     "data": {
      "text/plain": [
       "<matplotlib.collections.PathCollection at 0x19b8d5f4c18>"
      ]
     },
     "execution_count": 5,
     "metadata": {},
     "output_type": "execute_result"
    },
    {
     "data": {
      "image/png": "[encoded data removed]",
      "text/plain": [
       "<Figure size 432x288 with 1 Axes>"
      ]
     },
     "metadata": {
      "needs_background": "light"
     },
     "output_type": "display_data"
    }
   ],
   "source": [
    "idx = find_peaks(s, prominence=0.2)[0]\n",
    "\n",
    "xp = s.index.to_numpy()[idx]\n",
    "yp = s.to_numpy()[idx]\n",
    "\n",
    "fig, ax = plt.subplots()\n",
    "ax.plot(s.index, s)\n",
    "ax.scatter(xp, yp, color='r')"
   ]
  },
  {
   "cell_type": "code",
   "execution_count": 6,
   "metadata": {
    "pycharm": {
     "name": "#%%\n"
    },
    "scrolled": true
   },
   "outputs": [
    {
     "data": {
      "text/plain": [
       "640.372"
      ]
     },
     "execution_count": 6,
     "metadata": {},
     "output_type": "execute_result"
    }
   ],
   "source": [
    "x_max = xp[np.argmax(yp)]\n",
    "x_max"
   ]
  },
  {
   "cell_type": "code",
   "execution_count": 7,
   "metadata": {
    "pycharm": {
     "name": "#%%\n"
    }
   },
   "outputs": [],
   "source": [
    "diffs = np.diff(xp).mean()\n",
    "x_sig = 2*diffs\n",
    "\n",
    "a = np.max(yp)"
   ]
  },
  {
   "cell_type": "code",
   "execution_count": 8,
   "metadata": {
    "pycharm": {
     "name": "#%%\n"
    }
   },
   "outputs": [
    {
     "name": "stdout",
     "output_type": "stream",
     "text": [
      "Scalar Parameters:\n",
      "Parameter | Value       | Standard Deviation\n",
      "a           5.716152e+00  None\n",
      "mu          6.405472e+02  None\n",
      "sigma       6.317206e-01  None\n",
      "Status message         b'CONVERGENCE: REL_REDUCTION_OF_F_<=_FACTR*EPSMCH'\n",
      "Number of iterations   14\n",
      "Objective              <symfit.core.objectives.LeastSquares object at 0x0000019B8CF90940>\n",
      "Minimizer              <symfit.core.minimizers.LBFGSB object at 0x0000019B8D7B4278>\n",
      "\n",
      "Goodness of fit qualifiers:\n",
      "chi_squared            0.1551996378582881\n",
      "objective_value        0.07759981892914405\n",
      "r_squared              0.9963315811890807\n"
     ]
    }
   ],
   "source": [
    "x_var = Variable('x')\n",
    "y_var = Variable('y')\n",
    "a_par, mu_par, sig_par = parameters('a mu sigma')\n",
    "a_par.value = a\n",
    "a_par.min = 0\n",
    "mu_par.value = x_max\n",
    "sig_par.value = x_sig\n",
    "\n",
    "model = CallableModel({y_var: a_par*(exp(-(x_var - mu_par)**2/(2*sig_par**2)))})\n",
    "\n",
    "fit = Fit(model, x=xp, y=yp)\n",
    "fit_result = fit.execute()\n",
    "print(fit_result)"
   ]
  },
  {
   "cell_type": "code",
   "execution_count": 9,
   "metadata": {
    "pycharm": {
     "name": "#%%\n"
    }
   },
   "outputs": [
    {
     "data": {
      "text/plain": [
       "5.124035549233123e-12"
      ]
     },
     "execution_count": 9,
     "metadata": {},
     "output_type": "execute_result"
    }
   ],
   "source": [
    "x_vec = np.linspace(s.index.min(), s.index.max(), num=100, endpoint=True)\n",
    "y_vec = model(x=x_vec, **fit_result.params)\n",
    "y_vec[0][0]"
   ]
  },
  {
   "cell_type": "code",
   "execution_count": 33,
   "metadata": {
    "pycharm": {
     "name": "#%%\n"
    },
    "scrolled": true
   },
   "outputs": [
    {
     "data": {
      "image/png": "[encoded data removed]",
      "text/plain": [
       "<Figure size 432x288 with 1 Axes>"
      ]
     },
     "metadata": {
      "needs_background": "light"
     },
     "output_type": "display_data"
    }
   ],
   "source": [
    "fig, ax = plt.subplots()\n",
    "ax.plot(s.index, s, color ='k', linewidth=0.7)\n",
    "#ax.scatter(xp, yp, color='r')\n",
    "ax.plot(x_vec, y_vec[0],color='r')\n",
    "ax.set_ylim(0,6)\n",
    "ax.set_xlim(635,644)\n",
    "plt.savefig('4C_FD.png')\n"
   ]
  },
  {
   "cell_type": "code",
   "execution_count": null,
   "metadata": {},
   "outputs": [],
   "source": []
  }
 ],
 "metadata": {
  "kernelspec": {
   "display_name": "Python [conda env:py36_Global] *",
   "language": "python",
   "name": "conda-env-py36_Global-py"
  },
  "language_info": {
   "codemirror_mode": {
    "name": "ipython",
    "version": 3
   },
   "file_extension": ".py",
   "mimetype": "text/x-python",
   "name": "python",
   "nbconvert_exporter": "python",
   "pygments_lexer": "ipython3",
   "version": "3.6.10"
  }
 },
 "nbformat": 4,
 "nbformat_minor": 1
}
