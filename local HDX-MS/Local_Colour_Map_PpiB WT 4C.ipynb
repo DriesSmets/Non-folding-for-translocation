{
 "cells": [
  {
   "cell_type": "markdown",
   "metadata": {},
   "source": [
    "# Refolding Colour Map per residue from local HDX-MS analysis\n",
    "\n",
    "The folded fractions per residue (obtained using PyHDX) were converted to a colour map"
   ]
  },
  {
   "cell_type": "code",
   "execution_count": 1,
   "metadata": {},
   "outputs": [],
   "source": [
    "import matplotlib.pyplot as plt\n",
    "import matplotlib.tri as tri\n",
    "import numpy as np\n",
    "import matplotlib as mpl"
   ]
  },
  {
   "cell_type": "code",
   "execution_count": 2,
   "metadata": {},
   "outputs": [],
   "source": [
    "#13 timepoints(min)\n",
    "time = np.array([30,20,15,10,5,2.5,1,0.667,0.5,0.33,0.167,0.083,0.01]) "
   ]
  },
  {
   "cell_type": "code",
   "execution_count": 3,
   "metadata": {},
   "outputs": [
    {
     "data": {
      "text/plain": [
       "(14, 160)"
      ]
     },
     "execution_count": 3,
     "metadata": {},
     "output_type": "execute_result"
    }
   ],
   "source": [
    "data_table = np.genfromtxt('PpiB_4C_data.txt').T\n",
    "data_table.shape"
   ]
  },
  {
   "cell_type": "code",
   "execution_count": 4,
   "metadata": {},
   "outputs": [
    {
     "data": {
      "text/plain": [
       "(13, 2, 160)"
      ]
     },
     "execution_count": 4,
     "metadata": {},
     "output_type": "execute_result"
    }
   ],
   "source": [
    "#Put data into an array\n",
    "data_total = [np.stack([data_table[0], data_table[(i)]]) for i in np.arange(13) + 1]\n",
    "data_out = []\n",
    "for d in data_total:\n",
    "    x, y = d\n",
    "    \n",
    "    data_out.append([x, y])\n",
    "\n",
    "f_data = np.array(data_out)[::-1]\n",
    "f_data.shape\n"
   ]
  },
  {
   "cell_type": "markdown",
   "metadata": {},
   "source": [
    "### Grid construction"
   ]
  },
  {
   "cell_type": "code",
   "execution_count": 5,
   "metadata": {
    "scrolled": true
   },
   "outputs": [
    {
     "data": {
      "text/plain": [
       "(2080,)"
      ]
     },
     "execution_count": 5,
     "metadata": {},
     "output_type": "execute_result"
    }
   ],
   "source": [
    "X=f_data[:,0,:].flatten()\n",
    "X.shape"
   ]
  },
  {
   "cell_type": "code",
   "execution_count": 6,
   "metadata": {},
   "outputs": [
    {
     "data": {
      "text/plain": [
       "(2080,)"
      ]
     },
     "execution_count": 6,
     "metadata": {},
     "output_type": "execute_result"
    }
   ],
   "source": [
    "Z=f_data[:,1,:].flatten()\n",
    "Z.shape"
   ]
  },
  {
   "cell_type": "code",
   "execution_count": 7,
   "metadata": {},
   "outputs": [
    {
     "data": {
      "text/plain": [
       "(2080,)"
      ]
     },
     "execution_count": 7,
     "metadata": {},
     "output_type": "execute_result"
    }
   ],
   "source": [
    "Y=np.repeat(time,160)\n",
    "Y.shape"
   ]
  },
  {
   "cell_type": "code",
   "execution_count": 8,
   "metadata": {},
   "outputs": [],
   "source": [
    "# xi represents the residues of PpiB and yi is the extended timepoints for interpolation\n",
    "xi = np.arange(2, 163).astype(float)\n",
    "yi = np.linspace(0, 30, 2000)"
   ]
  },
  {
   "cell_type": "code",
   "execution_count": 9,
   "metadata": {},
   "outputs": [],
   "source": [
    "#Interpolation of folded fractions over time\n",
    "triang = tri.Triangulation(X, Y)\n",
    "interpolator = tri.LinearTriInterpolator(triang, Z)\n",
    "Xi, Yi = np.meshgrid(xi, yi)\n",
    "zi = interpolator(Xi, Yi)"
   ]
  },
  {
   "cell_type": "code",
   "execution_count": 10,
   "metadata": {},
   "outputs": [],
   "source": [
    "# Colour desription for the colour map\n",
    "positions = [0.,0.25,0.5,0.75,1.]\n",
    "colors = ['#FFFFFF', '#00FFFF', '#008080','#0075EA','#000080']\n",
    "norm = mpl.colors.Normalize(vmin=positions[0], vmax=positions[-1])\n",
    "\n",
    "normed_positions = norm(positions)\n",
    "\n",
    "cmap = mpl.colors.LinearSegmentedColormap.from_list(\"Driesscolormap\", list(zip(normed_positions, colors)))\n",
    "cmap.set_bad('#3A3A3A')\n"
   ]
  },
  {
   "cell_type": "code",
   "execution_count": 11,
   "metadata": {
    "scrolled": false
   },
   "outputs": [
    {
     "name": "stderr",
     "output_type": "stream",
     "text": [
      "C:\\Users\\Gebruiker\\Miniconda3\\envs\\py36_Global\\lib\\site-packages\\ipykernel_launcher.py:7: MatplotlibDeprecationWarning: shading='flat' when X and Y have the same dimensions as C is deprecated since 3.3.  Either specify the corners of the quadrilaterals with X and Y, or pass shading='auto', 'nearest' or 'gouraud', or set rcParams['pcolor.shading'].  This will become an error two minor releases later.\n",
      "  import sys\n",
      "C:\\Users\\Gebruiker\\Miniconda3\\envs\\py36_Global\\lib\\site-packages\\ipykernel_launcher.py:7: MatplotlibDeprecationWarning: Passing parameters norm and vmin/vmax simultaneously is deprecated since 3.3 and will become an error two minor releases later. Please pass vmin/vmax directly to the norm when creating it.\n",
      "  import sys\n"
     ]
    },
    {
     "data": {
      "image/png": "[encoded data removed]",
      "text/plain": [
       "<Figure size 1440x360 with 2 Axes>"
      ]
     },
     "metadata": {
      "needs_background": "light"
     },
     "output_type": "display_data"
    }
   ],
   "source": [
    "#for prolines and residues without coverage (value of 0), a grey bar is set\n",
    "values = zi.copy()\n",
    "values[values == 0.0] = np.nan\n",
    "\n",
    "#The Colourmap is plotted with a logarithmic time scale\n",
    "fig,ax=plt.subplots(figsize=(20, 5))\n",
    "image=ax.pcolormesh(xi, yi, values, cmap=cmap, norm=norm, vmin=0 ,vmax =1)\n",
    "ax.set_yscale('log')\n",
    "fig.colorbar(image, label='Folded fraction')\n",
    "plt.ylim(0.03,30)\n",
    "plt.xlim(0,169)\n",
    "ax.set_ylabel('Time(min)')\n",
    "ax.set_xlabel('Residue')\n",
    "# residues are set as ticks on the middle ex. residue 2 is a box from 2 to 3 with a tick mark at 2.5\n",
    "plt.xticks((2.5,20.5,40.5,60.5,80.5,100.5,120.5,140.5,160.5))\n",
    "\n",
    "plt.savefig('PpiB_scores_4C.png')"
   ]
  },
  {
   "cell_type": "code",
   "execution_count": null,
   "metadata": {},
   "outputs": [],
   "source": []
  }
 ],
 "metadata": {
  "kernelspec": {
   "display_name": "Python [conda env:py36_Global] *",
   "language": "python",
   "name": "conda-env-py36_Global-py"
  },
  "language_info": {
   "codemirror_mode": {
    "name": "ipython",
    "version": 3
   },
   "file_extension": ".py",
   "mimetype": "text/x-python",
   "name": "python",
   "nbconvert_exporter": "python",
   "pygments_lexer": "ipython3",
   "version": "3.6.10"
  }
 },
 "nbformat": 4,
 "nbformat_minor": 4
}
