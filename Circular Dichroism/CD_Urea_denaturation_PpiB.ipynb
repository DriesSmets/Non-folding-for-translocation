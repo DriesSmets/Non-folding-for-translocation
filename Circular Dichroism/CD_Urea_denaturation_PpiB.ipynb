{
 "cells": [
  {
   "cell_type": "code",
   "execution_count": 15,
   "metadata": {},
   "outputs": [],
   "source": [
    "%matplotlib inline\n",
    "from symfit import parameters, Variable, Fit, exp\n",
    "import matplotlib.pyplot as plt\n",
    "import numpy as np\n"
   ]
  },
  {
   "cell_type": "code",
   "execution_count": 8,
   "metadata": {
    "scrolled": true
   },
   "outputs": [
    {
     "data": {
      "text/plain": "(2, 13)"
     },
     "execution_count": 8,
     "metadata": {},
     "output_type": "execute_result"
    }
   ],
   "source": [
    "curve = np.genfromtxt('CD_B_urea curve3.txt').T\n",
    "curve.shape"
   ]
  },
  {
   "cell_type": "code",
   "execution_count": 20,
   "metadata": {},
   "outputs": [
    {
     "data": {
      "text/plain": "<matplotlib.collections.PathCollection at 0x1fbff0a2400>"
     },
     "execution_count": 20,
     "metadata": {},
     "output_type": "execute_result"
    },
    {
     "data": {
      "text/plain": "<Figure size 432x288 with 1 Axes>",
      "image/png": "[encoded data removed]"
     },
     "metadata": {
      "needs_background": "light"
     },
     "output_type": "display_data"
    }
   ],
   "source": [
    "#plot raw data\n",
    "xdata = curve[0]\n",
    "Fdata = curve[1]\n",
    "\n",
    "plt.xlabel('Urea')\n",
    "plt.ylabel('Folded fraction')\n",
    "plt.scatter(xdata,Fdata)"
   ]
  },
  {
   "cell_type": "code",
   "execution_count": 21,
   "metadata": {},
   "outputs": [
    {
     "data": {
      "text/plain": "exp(0.000401919285162436*m*(-d50 + x))/(exp(0.000401919285162436*m*(-d50 + x)) + 1)",
      "text/latex": "$\\displaystyle \\frac{e^{0.000401919285162436 m \\left(- d_{50} + x\\right)}}{e^{0.000401919285162436 m \\left(- d_{50} + x\\right)} + 1}$"
     },
     "execution_count": 21,
     "metadata": {},
     "output_type": "execute_result"
    }
   ],
   "source": [
    "# model formula for fitting with 2 parameters and one variable\n",
    "# equation from pyfolding: https://github.com/quantumjot/PyFolding\n",
    "# https://github.com/quantumjot/PyFolding/blob/3e343644f70d6cfe5e552e7c8ec5da76acb1d8c5/pyfolding/models.py#L78\n",
    "m, d50 = parameters('m d50')\n",
    "x = Variable('x')\n",
    "RT=8.345*(273.15+25)\n",
    "model = exp((m*(x-d50))/RT) / (1+exp((m*(x-d50))/RT))\n",
    "\n",
    "model"
   ]
  },
  {
   "cell_type": "code",
   "execution_count": 23,
   "outputs": [],
   "source": [
    "#fitting\n",
    "fit = Fit(model, xdata, Fdata)\n",
    "fit_result = fit.execute()"
   ],
   "metadata": {
    "collapsed": false,
    "pycharm": {
     "name": "#%%\n"
    }
   }
  },
  {
   "cell_type": "code",
   "execution_count": 24,
   "metadata": {},
   "outputs": [
    {
     "name": "stdout",
     "output_type": "stream",
     "text": [
      "Scalar Parameters:\n",
      "Parameter | Value       | Standard Deviation\n",
      "d50         4.032390e+00  3.680115e-02\n",
      "m           6.794758e+03  6.961722e+02\n",
      "Status message         Optimization terminated successfully.\n",
      "Number of iterations   23\n",
      "Objective              <symfit.core.objectives.LeastSquares object at 0x000001FBFEF62AC8>\n",
      "Minimizer              <symfit.core.minimizers.BFGS object at 0x000001FBFEF62A58>\n",
      "\n",
      "Goodness of fit qualifiers:\n",
      "chi_squared            0.017502024082582255\n",
      "objective_value        0.008751012041291127\n",
      "r_squared              0.9919851342641725\n"
     ]
    }
   ],
   "source": [
    "#Printing the parameters from the fit with d50 the urea concentration for F=0.5 and m-value describing the slope\n",
    "print(fit_result)"
   ]
  },
  {
   "cell_type": "code",
   "execution_count": 26,
   "metadata": {},
   "outputs": [
    {
     "data": {
      "text/plain": "<matplotlib.collections.PathCollection at 0x1fbfebf1d68>"
     },
     "execution_count": 26,
     "metadata": {},
     "output_type": "execute_result"
    },
    {
     "data": {
      "text/plain": "<Figure size 432x288 with 1 Axes>",
      "image/png": "[encoded data removed]"
     },
     "metadata": {
      "needs_background": "light"
     },
     "output_type": "display_data"
    }
   ],
   "source": [
    "# Plotting the fit on a figure with good resolution (with x 100 steps between 0-8M Urea) and for Y the fit parameters\n",
    "xmodel = np.linspace(0,8,num=100,endpoint=True)\n",
    "ymodel = model(xmodel,**fit_result.params)\n",
    "plt.plot(xmodel,ymodel)\n",
    "plt.scatter(xdata, Fdata, color='k')"
   ]
  },
  {
   "cell_type": "code",
   "execution_count": 8,
   "metadata": {},
   "outputs": [],
   "source": [
    "np.savetxt('CD_PpiB urea curve_fit2', ymodel)"
   ]
  },
  {
   "cell_type": "code",
   "execution_count": null,
   "metadata": {},
   "outputs": [],
   "source": []
  }
 ],
 "metadata": {
  "kernelspec": {
   "name": "conda-env-py36Global-py",
   "language": "python",
   "display_name": "Python [conda env:py36Global]"
  },
  "language_info": {
   "codemirror_mode": {
    "name": "ipython",
    "version": 3
   },
   "file_extension": ".py",
   "mimetype": "text/x-python",
   "name": "python",
   "nbconvert_exporter": "python",
   "pygments_lexer": "ipython3",
   "version": "3.6.10"
  },
  "varInspector": {
   "cols": {
    "lenName": 16,
    "lenType": 16,
    "lenVar": 40
   },
   "kernels_config": {
    "python": {
     "delete_cmd_postfix": "",
     "delete_cmd_prefix": "del ",
     "library": "var_list.py",
     "varRefreshCmd": "print(var_dic_list())"
    },
    "r": {
     "delete_cmd_postfix": ") ",
     "delete_cmd_prefix": "rm(",
     "library": "var_list.r",
     "varRefreshCmd": "cat(var_dic_list()) "
    }
   },
   "types_to_exclude": [
    "module",
    "function",
    "builtin_function_or_method",
    "instance",
    "_Feature"
   ],
   "window_display": false
  }
 },
 "nbformat": 4,
 "nbformat_minor": 2
}